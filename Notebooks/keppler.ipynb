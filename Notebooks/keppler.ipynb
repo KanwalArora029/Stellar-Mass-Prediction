{
 "cells": [
  {
   "cell_type": "code",
   "execution_count": 1,
   "metadata": {},
   "outputs": [],
   "source": [
    "import helpf as hf\n",
    "import sys\n",
    "from sklearn.preprocessing import Imputer\n",
    "from scipy.stats import linregress\n",
    "from sklearn.preprocessing import PolynomialFeatures\n",
    "import scipy as sp\n",
    "import pandas as pd\n",
    "import numpy as np\n",
    "import statsmodels.api as sm\n",
    "from statsmodels.formula.api import ols\n",
    "import matplotlib.pyplot as plt\n",
    "import seaborn as sns\n",
    "from scipy.stats import pearsonr\n",
    "plt.style.use('seaborn')"
   ]
  },
  {
   "cell_type": "code",
   "execution_count": 2,
   "metadata": {},
   "outputs": [
    {
     "data": {
      "text/plain": [
       "pl_hostname         0\n",
       "pl_discmethod       0\n",
       "pl_pnum             0\n",
       "pl_orbper         118\n",
       "pl_orbsmax       1680\n",
       "pl_orbeccen      2679\n",
       "pl_bmassj        2448\n",
       "pl_radj           946\n",
       "st_teff           232\n",
       "st_mass           766\n",
       "st_rad            359\n",
       "pl_trandur       1572\n",
       "pl_ratdor        3239\n",
       "dtype: int64"
      ]
     },
     "execution_count": 2,
     "metadata": {},
     "output_type": "execute_result"
    }
   ],
   "source": [
    "#after obtaining the data and saving it locally we can take a look at it\n",
    "df = pd.read_csv(\n",
    "    \"/Users/flatironschool/Documents/flatiron/Mod4_project/Data/planets_stars.csv\",\n",
    "    error_bad_lines=False)\n",
    "df.isna().sum()  "
   ]
  },
  {
   "cell_type": "code",
   "execution_count": 6,
   "metadata": {},
   "outputs": [
    {
     "data": {
      "text/plain": [
       "pl_orbper       118\n",
       "pl_orbeccen    2679\n",
       "pl_bmassj      2448\n",
       "pl_radj         946\n",
       "st_optmag       200\n",
       "st_mass         766\n",
       "st_teff         232\n",
       "st_rad          359\n",
       "pl_pnum           0\n",
       "dtype: int64"
      ]
     },
     "execution_count": 6,
     "metadata": {},
     "output_type": "execute_result"
    }
   ],
   "source": [
    "#create a new dataframe 'star-planet-df' and check how many NaNs in each column do we have \n",
    "spdf = df[['pl_orbper', 'pl_orbeccen', 'pl_bmassj', 'pl_radj', 'st_optmag', 'st_mass', 'st_teff', 'st_rad', 'pl_pnum']]\n",
    "spdf.isna().sum()"
   ]
  },
  {
   "cell_type": "code",
   "execution_count": 3,
   "metadata": {},
   "outputs": [
    {
     "data": {
      "text/plain": [
       "(514, 13)"
      ]
     },
     "execution_count": 3,
     "metadata": {},
     "output_type": "execute_result"
    }
   ],
   "source": [
    "# getting rid of NaN's in stellar columns, pl_orbsmax and pl_trandur\n",
    "new_df = df[np.isfinite(df[\"pl_trandur\"])]\n",
    "new_df = new_df[np.isfinite(new_df[\"pl_orbsmax\"])]\n",
    "new_df = new_df[np.isfinite(new_df[\"st_mass\"])]\n",
    "new_df = new_df[np.isfinite(new_df[\"st_rad\"])]\n",
    "new_df = new_df[np.isfinite(new_df[\"st_teff\"])]\n",
    "new_df.shape"
   ]
  },
  {
   "cell_type": "code",
   "execution_count": null,
   "metadata": {},
   "outputs": [],
   "source": []
  },
  {
   "cell_type": "code",
   "execution_count": 4,
   "metadata": {},
   "outputs": [
    {
     "name": "stderr",
     "output_type": "stream",
     "text": [
      "/Users/flatironschool/opt/anaconda3/lib/python3.7/site-packages/ipykernel_launcher.py:7: SettingWithCopyWarning: \n",
      "A value is trying to be set on a copy of a slice from a DataFrame.\n",
      "Try using .loc[row_indexer,col_indexer] = value instead\n",
      "\n",
      "See the caveats in the documentation: http://pandas.pydata.org/pandas-docs/stable/user_guide/indexing.html#returning-a-view-versus-a-copy\n",
      "  import sys\n",
      "/Users/flatironschool/opt/anaconda3/lib/python3.7/site-packages/ipykernel_launcher.py:8: SettingWithCopyWarning: \n",
      "A value is trying to be set on a copy of a slice from a DataFrame.\n",
      "Try using .loc[row_indexer,col_indexer] = value instead\n",
      "\n",
      "See the caveats in the documentation: http://pandas.pydata.org/pandas-docs/stable/user_guide/indexing.html#returning-a-view-versus-a-copy\n",
      "  \n"
     ]
    }
   ],
   "source": [
    "# data frame with only planet distance from star \"pl_orbsmax\" and planets\n",
    "# transit duration\n",
    "X = new_df[[\"pl_trandur\", \"pl_orbsmax\"]]\n",
    "\n",
    "# changing units to metric system.\n",
    "Y = new_df['st_mass'].apply(lambda x: x*1.989e+30)\n",
    "X['pl_trandur_metric'] = X['pl_trandur'].apply(lambda x: x*8.64e+4)\n",
    "X['pl_orbsmax_metric'] = X['pl_orbsmax'].apply(lambda x: x*1.496e+8)"
   ]
  },
  {
   "cell_type": "code",
   "execution_count": 6,
   "metadata": {},
   "outputs": [
    {
     "name": "stderr",
     "output_type": "stream",
     "text": [
      "/Users/flatironschool/opt/anaconda3/lib/python3.7/site-packages/numpy/core/fromnumeric.py:2495: FutureWarning: Method .ptp is deprecated and will be removed in a future version. Use numpy.ptp instead.\n",
      "  return ptp(axis=axis, out=out, **kwargs)\n"
     ]
    }
   ],
   "source": [
    "X.columns\n",
    "cols = ['pl_trandur_metric', 'pl_orbsmax_metric']\n",
    "\n",
    "# adding log transformatin columns to the dataframe.\n",
    "hf.columns_log(cols, X)\n",
    "X.columns\n",
    "\n",
    "\n",
    "X_log = X[['log_pl_trandur_metric', 'log_pl_orbsmax_metric']]\n",
    "Y_log = np.log(Y)\n",
    "Y\n",
    "X_cons = sm.add_constant(X_log)"
   ]
  },
  {
   "cell_type": "code",
   "execution_count": 12,
   "metadata": {},
   "outputs": [
    {
     "data": {
      "text/html": [
       "<div>\n",
       "<style scoped>\n",
       "    .dataframe tbody tr th:only-of-type {\n",
       "        vertical-align: middle;\n",
       "    }\n",
       "\n",
       "    .dataframe tbody tr th {\n",
       "        vertical-align: top;\n",
       "    }\n",
       "\n",
       "    .dataframe thead th {\n",
       "        text-align: right;\n",
       "    }\n",
       "</style>\n",
       "<table border=\"1\" class=\"dataframe\">\n",
       "  <thead>\n",
       "    <tr style=\"text-align: right;\">\n",
       "      <th></th>\n",
       "      <th>const</th>\n",
       "      <th>log_pl_trandur_metric</th>\n",
       "      <th>log_pl_orbsmax_metric</th>\n",
       "    </tr>\n",
       "  </thead>\n",
       "  <tbody>\n",
       "    <tr>\n",
       "      <td>66</td>\n",
       "      <td>0</td>\n",
       "      <td>9.280881</td>\n",
       "      <td>16.574431</td>\n",
       "    </tr>\n",
       "    <tr>\n",
       "      <td>67</td>\n",
       "      <td>0</td>\n",
       "      <td>9.105300</td>\n",
       "      <td>15.690777</td>\n",
       "    </tr>\n",
       "    <tr>\n",
       "      <td>68</td>\n",
       "      <td>0</td>\n",
       "      <td>9.134243</td>\n",
       "      <td>15.608592</td>\n",
       "    </tr>\n",
       "    <tr>\n",
       "      <td>69</td>\n",
       "      <td>0</td>\n",
       "      <td>9.332657</td>\n",
       "      <td>15.847546</td>\n",
       "    </tr>\n",
       "    <tr>\n",
       "      <td>70</td>\n",
       "      <td>0</td>\n",
       "      <td>8.697433</td>\n",
       "      <td>15.211557</td>\n",
       "    </tr>\n",
       "    <tr>\n",
       "      <td>...</td>\n",
       "      <td>...</td>\n",
       "      <td>...</td>\n",
       "      <td>...</td>\n",
       "    </tr>\n",
       "    <tr>\n",
       "      <td>4044</td>\n",
       "      <td>0</td>\n",
       "      <td>9.075098</td>\n",
       "      <td>15.729027</td>\n",
       "    </tr>\n",
       "    <tr>\n",
       "      <td>4055</td>\n",
       "      <td>0</td>\n",
       "      <td>8.467079</td>\n",
       "      <td>15.960524</td>\n",
       "    </tr>\n",
       "    <tr>\n",
       "      <td>4062</td>\n",
       "      <td>0</td>\n",
       "      <td>9.325753</td>\n",
       "      <td>15.857302</td>\n",
       "    </tr>\n",
       "    <tr>\n",
       "      <td>4063</td>\n",
       "      <td>0</td>\n",
       "      <td>9.253400</td>\n",
       "      <td>16.316323</td>\n",
       "    </tr>\n",
       "    <tr>\n",
       "      <td>4090</td>\n",
       "      <td>0</td>\n",
       "      <td>9.271511</td>\n",
       "      <td>16.140947</td>\n",
       "    </tr>\n",
       "  </tbody>\n",
       "</table>\n",
       "<p>514 rows × 3 columns</p>\n",
       "</div>"
      ],
      "text/plain": [
       "      const  log_pl_trandur_metric  log_pl_orbsmax_metric\n",
       "66        0               9.280881              16.574431\n",
       "67        0               9.105300              15.690777\n",
       "68        0               9.134243              15.608592\n",
       "69        0               9.332657              15.847546\n",
       "70        0               8.697433              15.211557\n",
       "...     ...                    ...                    ...\n",
       "4044      0               9.075098              15.729027\n",
       "4055      0               8.467079              15.960524\n",
       "4062      0               9.325753              15.857302\n",
       "4063      0               9.253400              16.316323\n",
       "4090      0               9.271511              16.140947\n",
       "\n",
       "[514 rows x 3 columns]"
      ]
     },
     "execution_count": 12,
     "metadata": {},
     "output_type": "execute_result"
    }
   ],
   "source": [
    "X_cons[\"const\"] = 0\n",
    "X_cons"
   ]
  },
  {
   "cell_type": "code",
   "execution_count": 7,
   "metadata": {},
   "outputs": [
    {
     "data": {
      "text/html": [
       "<table class=\"simpletable\">\n",
       "<caption>OLS Regression Results</caption>\n",
       "<tr>\n",
       "  <th>Dep. Variable:</th>         <td>st_mass</td>     <th>  R-squared (uncentered):</th>      <td>   0.998</td> \n",
       "</tr>\n",
       "<tr>\n",
       "  <th>Model:</th>                   <td>OLS</td>       <th>  Adj. R-squared (uncentered):</th> <td>   0.998</td> \n",
       "</tr>\n",
       "<tr>\n",
       "  <th>Method:</th>             <td>Least Squares</td>  <th>  F-statistic:       </th>          <td>1.028e+05</td>\n",
       "</tr>\n",
       "<tr>\n",
       "  <th>Date:</th>             <td>Fri, 17 Jan 2020</td> <th>  Prob (F-statistic):</th>           <td>  0.00</td>  \n",
       "</tr>\n",
       "<tr>\n",
       "  <th>Time:</th>                 <td>09:50:08</td>     <th>  Log-Likelihood:    </th>          <td> -1369.1</td> \n",
       "</tr>\n",
       "<tr>\n",
       "  <th>No. Observations:</th>      <td>   514</td>      <th>  AIC:               </th>          <td>   2742.</td> \n",
       "</tr>\n",
       "<tr>\n",
       "  <th>Df Residuals:</th>          <td>   512</td>      <th>  BIC:               </th>          <td>   2751.</td> \n",
       "</tr>\n",
       "<tr>\n",
       "  <th>Df Model:</th>              <td>     2</td>      <th>                     </th>              <td> </td>    \n",
       "</tr>\n",
       "<tr>\n",
       "  <th>Covariance Type:</th>      <td>nonrobust</td>    <th>                     </th>              <td> </td>    \n",
       "</tr>\n",
       "</table>\n",
       "<table class=\"simpletable\">\n",
       "<tr>\n",
       "            <td></td>               <th>coef</th>     <th>std err</th>      <th>t</th>      <th>P>|t|</th>  <th>[0.025</th>    <th>0.975]</th>  \n",
       "</tr>\n",
       "<tr>\n",
       "  <th>log_pl_trandur_metric</th> <td>    2.4902</td> <td>    0.415</td> <td>    5.995</td> <td> 0.000</td> <td>    1.674</td> <td>    3.306</td>\n",
       "</tr>\n",
       "<tr>\n",
       "  <th>log_pl_orbsmax_metric</th> <td>    2.8807</td> <td>    0.241</td> <td>   11.978</td> <td> 0.000</td> <td>    2.408</td> <td>    3.353</td>\n",
       "</tr>\n",
       "</table>\n",
       "<table class=\"simpletable\">\n",
       "<tr>\n",
       "  <th>Omnibus:</th>       <td>143.737</td> <th>  Durbin-Watson:     </th> <td>   1.260</td> \n",
       "</tr>\n",
       "<tr>\n",
       "  <th>Prob(Omnibus):</th> <td> 0.000</td>  <th>  Jarque-Bera (JB):  </th> <td> 472.107</td> \n",
       "</tr>\n",
       "<tr>\n",
       "  <th>Skew:</th>          <td>-1.287</td>  <th>  Prob(JB):          </th> <td>3.04e-103</td>\n",
       "</tr>\n",
       "<tr>\n",
       "  <th>Kurtosis:</th>      <td> 6.927</td>  <th>  Cond. No.          </th> <td>    58.2</td> \n",
       "</tr>\n",
       "</table><br/><br/>Warnings:<br/>[1] Standard Errors assume that the covariance matrix of the errors is correctly specified."
      ],
      "text/plain": [
       "<class 'statsmodels.iolib.summary.Summary'>\n",
       "\"\"\"\n",
       "                                 OLS Regression Results                                \n",
       "=======================================================================================\n",
       "Dep. Variable:                st_mass   R-squared (uncentered):                   0.998\n",
       "Model:                            OLS   Adj. R-squared (uncentered):              0.998\n",
       "Method:                 Least Squares   F-statistic:                          1.028e+05\n",
       "Date:                Fri, 17 Jan 2020   Prob (F-statistic):                        0.00\n",
       "Time:                        09:50:08   Log-Likelihood:                         -1369.1\n",
       "No. Observations:                 514   AIC:                                      2742.\n",
       "Df Residuals:                     512   BIC:                                      2751.\n",
       "Df Model:                           2                                                  \n",
       "Covariance Type:            nonrobust                                                  \n",
       "=========================================================================================\n",
       "                            coef    std err          t      P>|t|      [0.025      0.975]\n",
       "-----------------------------------------------------------------------------------------\n",
       "log_pl_trandur_metric     2.4902      0.415      5.995      0.000       1.674       3.306\n",
       "log_pl_orbsmax_metric     2.8807      0.241     11.978      0.000       2.408       3.353\n",
       "==============================================================================\n",
       "Omnibus:                      143.737   Durbin-Watson:                   1.260\n",
       "Prob(Omnibus):                  0.000   Jarque-Bera (JB):              472.107\n",
       "Skew:                          -1.287   Prob(JB):                    3.04e-103\n",
       "Kurtosis:                       6.927   Cond. No.                         58.2\n",
       "==============================================================================\n",
       "\n",
       "Warnings:\n",
       "[1] Standard Errors assume that the covariance matrix of the errors is correctly specified.\n",
       "\"\"\""
      ]
     },
     "execution_count": 7,
     "metadata": {},
     "output_type": "execute_result"
    }
   ],
   "source": [
    "model_metric = sm.OLS(Y_log, X_log).fit()\n",
    "model_metric.summary()"
   ]
  },
  {
   "cell_type": "code",
   "execution_count": 13,
   "metadata": {},
   "outputs": [
    {
     "name": "stderr",
     "output_type": "stream",
     "text": [
      "/Users/flatironschool/opt/anaconda3/lib/python3.7/site-packages/statsmodels/regression/linear_model.py:1755: RuntimeWarning: divide by zero encountered in double_scalars\n",
      "  return np.sqrt(eigvals[0]/eigvals[-1])\n",
      "/Users/flatironschool/opt/anaconda3/lib/python3.7/site-packages/statsmodels/base/model.py:1294: RuntimeWarning: invalid value encountered in true_divide\n",
      "  return self.params / self.bse\n",
      "/Users/flatironschool/opt/anaconda3/lib/python3.7/site-packages/scipy/stats/_distn_infrastructure.py:901: RuntimeWarning: invalid value encountered in greater\n",
      "  return (a < x) & (x < b)\n",
      "/Users/flatironschool/opt/anaconda3/lib/python3.7/site-packages/scipy/stats/_distn_infrastructure.py:901: RuntimeWarning: invalid value encountered in less\n",
      "  return (a < x) & (x < b)\n",
      "/Users/flatironschool/opt/anaconda3/lib/python3.7/site-packages/scipy/stats/_distn_infrastructure.py:1892: RuntimeWarning: invalid value encountered in less_equal\n",
      "  cond2 = cond0 & (x <= _a)\n"
     ]
    },
    {
     "data": {
      "text/html": [
       "<table class=\"simpletable\">\n",
       "<caption>OLS Regression Results</caption>\n",
       "<tr>\n",
       "  <th>Dep. Variable:</th>         <td>st_mass</td>     <th>  R-squared (uncentered):</th>      <td>   0.998</td> \n",
       "</tr>\n",
       "<tr>\n",
       "  <th>Model:</th>                   <td>OLS</td>       <th>  Adj. R-squared (uncentered):</th> <td>   0.998</td> \n",
       "</tr>\n",
       "<tr>\n",
       "  <th>Method:</th>             <td>Least Squares</td>  <th>  F-statistic:       </th>          <td>1.028e+05</td>\n",
       "</tr>\n",
       "<tr>\n",
       "  <th>Date:</th>             <td>Fri, 17 Jan 2020</td> <th>  Prob (F-statistic):</th>           <td>  0.00</td>  \n",
       "</tr>\n",
       "<tr>\n",
       "  <th>Time:</th>                 <td>10:10:11</td>     <th>  Log-Likelihood:    </th>          <td> -1369.1</td> \n",
       "</tr>\n",
       "<tr>\n",
       "  <th>No. Observations:</th>      <td>   514</td>      <th>  AIC:               </th>          <td>   2742.</td> \n",
       "</tr>\n",
       "<tr>\n",
       "  <th>Df Residuals:</th>          <td>   512</td>      <th>  BIC:               </th>          <td>   2751.</td> \n",
       "</tr>\n",
       "<tr>\n",
       "  <th>Df Model:</th>              <td>     2</td>      <th>                     </th>              <td> </td>    \n",
       "</tr>\n",
       "<tr>\n",
       "  <th>Covariance Type:</th>      <td>nonrobust</td>    <th>                     </th>              <td> </td>    \n",
       "</tr>\n",
       "</table>\n",
       "<table class=\"simpletable\">\n",
       "<tr>\n",
       "            <td></td>               <th>coef</th>     <th>std err</th>      <th>t</th>      <th>P>|t|</th>  <th>[0.025</th>    <th>0.975]</th>  \n",
       "</tr>\n",
       "<tr>\n",
       "  <th>const</th>                 <td>         0</td> <td>        0</td> <td>      nan</td> <td>   nan</td> <td>        0</td> <td>        0</td>\n",
       "</tr>\n",
       "<tr>\n",
       "  <th>log_pl_trandur_metric</th> <td>    2.4902</td> <td>    0.415</td> <td>    5.995</td> <td> 0.000</td> <td>    1.674</td> <td>    3.306</td>\n",
       "</tr>\n",
       "<tr>\n",
       "  <th>log_pl_orbsmax_metric</th> <td>    2.8807</td> <td>    0.241</td> <td>   11.978</td> <td> 0.000</td> <td>    2.408</td> <td>    3.353</td>\n",
       "</tr>\n",
       "</table>\n",
       "<table class=\"simpletable\">\n",
       "<tr>\n",
       "  <th>Omnibus:</th>       <td>143.737</td> <th>  Durbin-Watson:     </th> <td>   1.260</td> \n",
       "</tr>\n",
       "<tr>\n",
       "  <th>Prob(Omnibus):</th> <td> 0.000</td>  <th>  Jarque-Bera (JB):  </th> <td> 472.107</td> \n",
       "</tr>\n",
       "<tr>\n",
       "  <th>Skew:</th>          <td>-1.287</td>  <th>  Prob(JB):          </th> <td>3.04e-103</td>\n",
       "</tr>\n",
       "<tr>\n",
       "  <th>Kurtosis:</th>      <td> 6.927</td>  <th>  Cond. No.          </th> <td>     inf</td> \n",
       "</tr>\n",
       "</table><br/><br/>Warnings:<br/>[1] Standard Errors assume that the covariance matrix of the errors is correctly specified.<br/>[2] The smallest eigenvalue is      0. This might indicate that there are<br/>strong multicollinearity problems or that the design matrix is singular."
      ],
      "text/plain": [
       "<class 'statsmodels.iolib.summary.Summary'>\n",
       "\"\"\"\n",
       "                                 OLS Regression Results                                \n",
       "=======================================================================================\n",
       "Dep. Variable:                st_mass   R-squared (uncentered):                   0.998\n",
       "Model:                            OLS   Adj. R-squared (uncentered):              0.998\n",
       "Method:                 Least Squares   F-statistic:                          1.028e+05\n",
       "Date:                Fri, 17 Jan 2020   Prob (F-statistic):                        0.00\n",
       "Time:                        10:10:11   Log-Likelihood:                         -1369.1\n",
       "No. Observations:                 514   AIC:                                      2742.\n",
       "Df Residuals:                     512   BIC:                                      2751.\n",
       "Df Model:                           2                                                  \n",
       "Covariance Type:            nonrobust                                                  \n",
       "=========================================================================================\n",
       "                            coef    std err          t      P>|t|      [0.025      0.975]\n",
       "-----------------------------------------------------------------------------------------\n",
       "const                          0          0        nan        nan           0           0\n",
       "log_pl_trandur_metric     2.4902      0.415      5.995      0.000       1.674       3.306\n",
       "log_pl_orbsmax_metric     2.8807      0.241     11.978      0.000       2.408       3.353\n",
       "==============================================================================\n",
       "Omnibus:                      143.737   Durbin-Watson:                   1.260\n",
       "Prob(Omnibus):                  0.000   Jarque-Bera (JB):              472.107\n",
       "Skew:                          -1.287   Prob(JB):                    3.04e-103\n",
       "Kurtosis:                       6.927   Cond. No.                          inf\n",
       "==============================================================================\n",
       "\n",
       "Warnings:\n",
       "[1] Standard Errors assume that the covariance matrix of the errors is correctly specified.\n",
       "[2] The smallest eigenvalue is      0. This might indicate that there are\n",
       "strong multicollinearity problems or that the design matrix is singular.\n",
       "\"\"\""
      ]
     },
     "execution_count": 13,
     "metadata": {},
     "output_type": "execute_result"
    }
   ],
   "source": [
    "model_metric = sm.OLS(Y_log, X_cons).fit()\n",
    "model_metric.summary()"
   ]
  },
  {
   "cell_type": "markdown",
   "metadata": {},
   "source": []
  },
  {
   "cell_type": "markdown",
   "metadata": {},
   "source": [
    "$$M_s = \\frac{4 \\pi^2 r^3}{GT^2}$$\n",
    "\n",
    "$$ln(M_s) = ln(\\frac{4 \\pi^2 r^3}{GT^2})$$\n",
    "$$ln(M_s) = ln(4 \\pi^2 r^3) - ln(GT^2)$$\n",
    "\n",
    "$$ln(M_s) =ln(4 \\pi^2) - ln(G) + 3ln(r) - 2ln(T)$$"
   ]
  },
  {
   "cell_type": "markdown",
   "metadata": {},
   "source": [
    "\n",
    "\n",
    "$$ln(M_s) = A + B*ln(Radius) - C*ln(Transit)$$\n",
    "\n",
    "$$ln(M_s) = 2.8807*ln(r) - 2.4902*ln(T)$$"
   ]
  },
  {
   "cell_type": "markdown",
   "metadata": {},
   "source": [
    "r = The longest radius of an elliptic orbit\n",
    "T = The time given by the average of the time the planet begins to cross the stellar limb and the time the planet finishes crossing the stellar limb"
   ]
  },
  {
   "cell_type": "markdown",
   "metadata": {},
   "source": []
  },
  {
   "cell_type": "code",
   "execution_count": null,
   "metadata": {},
   "outputs": [],
   "source": []
  }
 ],
 "metadata": {
  "kernelspec": {
   "display_name": "Python 3",
   "language": "python",
   "name": "python3"
  },
  "language_info": {
   "codemirror_mode": {
    "name": "ipython",
    "version": 3
   },
   "file_extension": ".py",
   "mimetype": "text/x-python",
   "name": "python",
   "nbconvert_exporter": "python",
   "pygments_lexer": "ipython3",
   "version": "3.7.4"
  },
  "toc": {
   "base_numbering": 1,
   "nav_menu": {},
   "number_sections": true,
   "sideBar": true,
   "skip_h1_title": false,
   "title_cell": "Table of Contents",
   "title_sidebar": "Contents",
   "toc_cell": false,
   "toc_position": {},
   "toc_section_display": true,
   "toc_window_display": false
  }
 },
 "nbformat": 4,
 "nbformat_minor": 2
}
